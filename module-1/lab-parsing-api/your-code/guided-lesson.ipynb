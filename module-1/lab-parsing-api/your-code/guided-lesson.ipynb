{
 "cells": [
  {
   "cell_type": "markdown",
   "metadata": {},
   "source": [
    "# Parsing APIs Example"
   ]
  },
  {
   "cell_type": "markdown",
   "metadata": {},
   "source": [
    "## Intro\n",
    "\n",
    "Now we will take a look on a real data. When you parse data from web you will often meet API based web-pages. \n",
    "\n",
    "For example [zalando.fr](https://www.zalando.fr/accueil-homme/) is API based web-page. \n",
    "\n",
    "In this guided lab you will learn how to obtain the links from webpages and extract the data. Read through this doc, execute the cells in order and make sure you understand the explanations. \n",
    "\n",
    "*Note: This guided lab uses Google Chrome. Other browsers like Safari and Firefox have similar tools for developers but they work differently. To save your time in following this lab, it is strongly recommended that you install and use Google Chrome.*"
   ]
  },
  {
   "cell_type": "markdown",
   "metadata": {},
   "source": [
    "## Obtaining the link\n",
    "\n",
    "Zalando is discount e-store where you can buy clothes and accesories with discount. When we go to the web-page, we can choose different sections. First the general process will be shown using [Children section](https://www.zalando.fr/accueil-enfant/) as example.\n",
    "\n",
    "Here we will parse data about promotions only. Therefore, final output will be the DataFrame with all the goods under discount.\n",
    "\n",
    "[![Image from Gyazo](https://i.gyazo.com/fa4874d8e81c7570273bbfb853d66308.png)](https://gyazo.com/fa4874d8e81c7570273bbfb853d66308)\n",
    "\n",
    "\n",
    "We go to Promos page. Right click of mouse shows us a list of actions possible, from which we select Inspect.\n",
    "\n",
    "<img src='https://i.gyazo.com/bccbd11d69c9040dc98758d443e32052.png' width=\"400\">\n",
    "\n",
    "\n",
    "You will see the menu dropdown on the right side or on the bottom of the window. There you should click on Network:\n",
    "\n",
    "\n",
    "[![Image from Gyazo](https://i.gyazo.com/f7e0db81cbfee67694183d1a7640bf81.png)](https://gyazo.com/f7e0db81cbfee67694183d1a7640bf81)"
   ]
  },
  {
   "cell_type": "markdown",
   "metadata": {},
   "source": [
    "Right after the developer part will change showing the files behind the page. In order to obtain only useful files we select the following settings:\n",
    "1. Preserve Log\n",
    "2. Select XHR files.\n",
    "\n",
    "[![Image from Gyazo](https://i.gyazo.com/9a899d4441d9d93e795f79747f1e47d5.png)](https://gyazo.com/9a899d4441d9d93e795f79747f1e47d5)\n",
    "\n",
    "In order to obtain some files we need to scrool down and go forward to second page. \n",
    "\n",
    "[![Image from Gyazo](https://i.gyazo.com/0956eb3d5125075a236c9a439c7749c7.png)](https://gyazo.com/0956eb3d5125075a236c9a439c7749c7)\n",
    "\n",
    "In the Network panel you can see the following files being uploaded. All the data on the web-page is uploaded from the json file, which is one of the following. It is important to understand which file contains what kind of information. \n",
    "\n",
    "<a href=\"https://gyazo.com/cf97a655869f0b22df0ada1cb2a41c3c\"><img src=\"https://i.gyazo.com/cf97a655869f0b22df0ada1cb2a41c3c.png\" alt=\"Image from Gyazo\" width=\"724.8\"/></a>\n",
    "\n",
    "When you find what kind of information you need for the data to be uploaded you just test it. Here we need the article... file:\n",
    "\n",
    "<a href=\"https://gyazo.com/78b35bf492994b3f35c0564a21da202a\"><img src=\"https://i.gyazo.com/78b35bf492994b3f35c0564a21da202a.png\" alt=\"Image from Gyazo\" width=\"727.2\"/></a>\n",
    "\n",
    "When we test the link in Chrome inkognito mode we obtain the proper json file:\n",
    "\n",
    "\n",
    "<a href=\"https://gyazo.com/b60453fa98454fa29771c731a5174443\"><img src=\"https://i.gyazo.com/b60453fa98454fa29771c731a5174443.png\" alt=\"Image from Gyazo\" width=\"1530.4\"/></a>"
   ]
  },
  {
   "cell_type": "markdown",
   "metadata": {},
   "source": [
    "In order to change the objects in the json file (kind of pagination), you need to change the offset (the number of the first element on the page). in fact, if you take a look on the link, it is easy to unerstand the structure of the link.\n",
    "\n",
    "# Reading the data\n",
    "\n",
    "Now the party rocks! When we know how can we obtain the data, it is not a problem to obtain the whole database with all the data from the web-page.\n",
    "In this lab you will collect your database of Zalando products. You select which goods you want to track. You can define as many filters to your data as you want. Just make sure that the data represents the filters.\n",
    "\n",
    "\n"
   ]
  },
  {
   "cell_type": "code",
   "execution_count": 15,
   "metadata": {},
   "outputs": [],
   "source": [
    "import json\n",
    "import requests\n",
    "import pandas as pd\n",
    "import urllib\n",
    "from pandas.io.json import json_normalize\n"
   ]
  },
  {
   "cell_type": "code",
   "execution_count": 16,
   "metadata": {},
   "outputs": [],
   "source": [
    "# Paste the url you obtained for your data\n",
    "url='https://www.zalando.fr/api/catalog/articles?categories=promo-femme&limit=84&offset=84&sort=popularity'\n"
   ]
  },
  {
   "cell_type": "markdown",
   "metadata": {},
   "source": [
    "#### Collect first 84 object of the of the data (1st page)\n",
    "\n",
    "Your output should be a Pandas DataFrame of goods. Each row should contain only text or numbers, having *family_articles, flags, media* and *sizes* remaining lists (they are exceptions)."
   ]
  },
  {
   "cell_type": "code",
   "execution_count": 17,
   "metadata": {},
   "outputs": [
    {
     "name": "stderr",
     "output_type": "stream",
     "text": [
      "/home/joyce/.local/lib/python3.6/site-packages/ipykernel_launcher.py:6: FutureWarning: pandas.io.json.json_normalize is deprecated, use pandas.json_normalize instead\n",
      "  \n",
      "/home/joyce/.local/lib/python3.6/site-packages/ipykernel_launcher.py:7: FutureWarning: pandas.io.json.json_normalize is deprecated, use pandas.json_normalize instead\n",
      "  import sys\n"
     ]
    },
    {
     "data": {
      "text/html": [
       "<div>\n",
       "<style scoped>\n",
       "    .dataframe tbody tr th:only-of-type {\n",
       "        vertical-align: middle;\n",
       "    }\n",
       "\n",
       "    .dataframe tbody tr th {\n",
       "        vertical-align: top;\n",
       "    }\n",
       "\n",
       "    .dataframe thead th {\n",
       "        text-align: right;\n",
       "    }\n",
       "</style>\n",
       "<table border=\"1\" class=\"dataframe\">\n",
       "  <thead>\n",
       "    <tr style=\"text-align: right;\">\n",
       "      <th></th>\n",
       "      <th>sku</th>\n",
       "      <th>name</th>\n",
       "      <th>sizes</th>\n",
       "      <th>url_key</th>\n",
       "      <th>media</th>\n",
       "      <th>brand_name</th>\n",
       "      <th>is_premium</th>\n",
       "      <th>family_articles</th>\n",
       "      <th>flags</th>\n",
       "      <th>product_group</th>\n",
       "      <th>delivery_promises</th>\n",
       "      <th>price.original</th>\n",
       "      <th>price.promotional</th>\n",
       "      <th>price.has_different_prices</th>\n",
       "      <th>price.has_different_original_prices</th>\n",
       "      <th>price.has_different_promotional_prices</th>\n",
       "      <th>price.has_discount_on_selected_sizes_only</th>\n",
       "      <th>amount</th>\n",
       "      <th>price.base_price</th>\n",
       "      <th>outfits</th>\n",
       "    </tr>\n",
       "  </thead>\n",
       "  <tbody>\n",
       "    <tr>\n",
       "      <th>0</th>\n",
       "      <td>AN621C1GR-A11</td>\n",
       "      <td>Robe de soirée - white</td>\n",
       "      <td>[S, M, L, XL]</td>\n",
       "      <td>anna-field-robe-de-soiree-white-an621c1gr-a11</td>\n",
       "      <td>[{'path': 'spp-media-p1/1c6051af7dc938d59d4dbc...</td>\n",
       "      <td>Anna Field</td>\n",
       "      <td>False</td>\n",
       "      <td>[]</td>\n",
       "      <td>[{'key': 'discountRate', 'value': '-50%', 'tra...</td>\n",
       "      <td>clothing</td>\n",
       "      <td>[]</td>\n",
       "      <td>34,99 €</td>\n",
       "      <td>17,49 €</td>\n",
       "      <td>False</td>\n",
       "      <td>False</td>\n",
       "      <td>False</td>\n",
       "      <td>False</td>\n",
       "      <td>NaN</td>\n",
       "      <td>NaN</td>\n",
       "      <td>NaN</td>\n",
       "    </tr>\n",
       "    <tr>\n",
       "      <th>1</th>\n",
       "      <td>AD111A0YD-A12</td>\n",
       "      <td>TEAM COURT - Baskets basses - footwear white/s...</td>\n",
       "      <td>[36, 38, 40, 42, 36 2/3, 37 1/3, 38 2/3, 39 1/...</td>\n",
       "      <td>adidas-originals-team-court-baskets-basses-ad1...</td>\n",
       "      <td>[{'path': 'spp-media-p1/3bb538744def3899ba42d6...</td>\n",
       "      <td>adidas Originals</td>\n",
       "      <td>False</td>\n",
       "      <td>[]</td>\n",
       "      <td>[{'key': 'discountRate', 'value': 'Jusqu’à -30...</td>\n",
       "      <td>shoe</td>\n",
       "      <td>[]</td>\n",
       "      <td>79,95 €</td>\n",
       "      <td>55,95 €</td>\n",
       "      <td>True</td>\n",
       "      <td>False</td>\n",
       "      <td>True</td>\n",
       "      <td>False</td>\n",
       "      <td>NaN</td>\n",
       "      <td>NaN</td>\n",
       "      <td>NaN</td>\n",
       "    </tr>\n",
       "    <tr>\n",
       "      <th>2</th>\n",
       "      <td>LE221D033-A13</td>\n",
       "      <td>THE PERFECT - T-shirt imprimé - white</td>\n",
       "      <td>[XXS, XS, S, M, L, XL]</td>\n",
       "      <td>levi-s-the-perfect-t-shirt-imprime-le221d033-a13</td>\n",
       "      <td>[{'path': 'spp-media-p1/a77b713593b139f787a6b6...</td>\n",
       "      <td>Levi's®</td>\n",
       "      <td>False</td>\n",
       "      <td>[]</td>\n",
       "      <td>[{'key': 'discountRate', 'value': '-30%', 'tra...</td>\n",
       "      <td>clothing</td>\n",
       "      <td>[]</td>\n",
       "      <td>28,95 €</td>\n",
       "      <td>20,25 €</td>\n",
       "      <td>False</td>\n",
       "      <td>False</td>\n",
       "      <td>False</td>\n",
       "      <td>False</td>\n",
       "      <td>NaN</td>\n",
       "      <td>NaN</td>\n",
       "      <td>NaN</td>\n",
       "    </tr>\n",
       "    <tr>\n",
       "      <th>3</th>\n",
       "      <td>EV421D19K-Q11</td>\n",
       "      <td>T-shirt à manches longues - black</td>\n",
       "      <td>[XS, S, M, L, XL]</td>\n",
       "      <td>evenandodd-t-shirt-a-manches-longues-black-ev4...</td>\n",
       "      <td>[{'path': 'spp-media-p1/f7752e083b1e33ccbd4e65...</td>\n",
       "      <td>Even&amp;Odd</td>\n",
       "      <td>False</td>\n",
       "      <td>[]</td>\n",
       "      <td>[{'key': 'discountRate', 'value': '-10%', 'tra...</td>\n",
       "      <td>clothing</td>\n",
       "      <td>[]</td>\n",
       "      <td>14,99 €</td>\n",
       "      <td>13,49 €</td>\n",
       "      <td>False</td>\n",
       "      <td>False</td>\n",
       "      <td>False</td>\n",
       "      <td>False</td>\n",
       "      <td>NaN</td>\n",
       "      <td>NaN</td>\n",
       "      <td>NaN</td>\n",
       "    </tr>\n",
       "    <tr>\n",
       "      <th>4</th>\n",
       "      <td>LA211S03Z-A11</td>\n",
       "      <td>CARNABY - Baskets basses - white</td>\n",
       "      <td>[35.5, 36, 37, 37.5, 38, 39, 39.5, 40, 40.5, 4...</td>\n",
       "      <td>lacoste-carnaby-baskets-basses-white-la211s03z...</td>\n",
       "      <td>[{'path': 'spp-media-p1/d4cbcde392f232c1883263...</td>\n",
       "      <td>Lacoste</td>\n",
       "      <td>False</td>\n",
       "      <td>[]</td>\n",
       "      <td>[{'key': 'discountRate', 'value': '-30%', 'tra...</td>\n",
       "      <td>shoe</td>\n",
       "      <td>[]</td>\n",
       "      <td>104,95 €</td>\n",
       "      <td>73,45 €</td>\n",
       "      <td>False</td>\n",
       "      <td>False</td>\n",
       "      <td>False</td>\n",
       "      <td>False</td>\n",
       "      <td>NaN</td>\n",
       "      <td>NaN</td>\n",
       "      <td>NaN</td>\n",
       "    </tr>\n",
       "  </tbody>\n",
       "</table>\n",
       "</div>"
      ],
      "text/plain": [
       "             sku                                               name  \\\n",
       "0  AN621C1GR-A11                             Robe de soirée - white   \n",
       "1  AD111A0YD-A12  TEAM COURT - Baskets basses - footwear white/s...   \n",
       "2  LE221D033-A13              THE PERFECT - T-shirt imprimé - white   \n",
       "3  EV421D19K-Q11                  T-shirt à manches longues - black   \n",
       "4  LA211S03Z-A11                   CARNABY - Baskets basses - white   \n",
       "\n",
       "                                               sizes  \\\n",
       "0                                      [S, M, L, XL]   \n",
       "1  [36, 38, 40, 42, 36 2/3, 37 1/3, 38 2/3, 39 1/...   \n",
       "2                             [XXS, XS, S, M, L, XL]   \n",
       "3                                  [XS, S, M, L, XL]   \n",
       "4  [35.5, 36, 37, 37.5, 38, 39, 39.5, 40, 40.5, 4...   \n",
       "\n",
       "                                             url_key  \\\n",
       "0      anna-field-robe-de-soiree-white-an621c1gr-a11   \n",
       "1  adidas-originals-team-court-baskets-basses-ad1...   \n",
       "2   levi-s-the-perfect-t-shirt-imprime-le221d033-a13   \n",
       "3  evenandodd-t-shirt-a-manches-longues-black-ev4...   \n",
       "4  lacoste-carnaby-baskets-basses-white-la211s03z...   \n",
       "\n",
       "                                               media        brand_name  \\\n",
       "0  [{'path': 'spp-media-p1/1c6051af7dc938d59d4dbc...        Anna Field   \n",
       "1  [{'path': 'spp-media-p1/3bb538744def3899ba42d6...  adidas Originals   \n",
       "2  [{'path': 'spp-media-p1/a77b713593b139f787a6b6...           Levi's®   \n",
       "3  [{'path': 'spp-media-p1/f7752e083b1e33ccbd4e65...          Even&Odd   \n",
       "4  [{'path': 'spp-media-p1/d4cbcde392f232c1883263...           Lacoste   \n",
       "\n",
       "   is_premium family_articles  \\\n",
       "0       False              []   \n",
       "1       False              []   \n",
       "2       False              []   \n",
       "3       False              []   \n",
       "4       False              []   \n",
       "\n",
       "                                               flags product_group  \\\n",
       "0  [{'key': 'discountRate', 'value': '-50%', 'tra...      clothing   \n",
       "1  [{'key': 'discountRate', 'value': 'Jusqu’à -30...          shoe   \n",
       "2  [{'key': 'discountRate', 'value': '-30%', 'tra...      clothing   \n",
       "3  [{'key': 'discountRate', 'value': '-10%', 'tra...      clothing   \n",
       "4  [{'key': 'discountRate', 'value': '-30%', 'tra...          shoe   \n",
       "\n",
       "  delivery_promises price.original price.promotional  \\\n",
       "0                []        34,99 €           17,49 €   \n",
       "1                []        79,95 €           55,95 €   \n",
       "2                []        28,95 €           20,25 €   \n",
       "3                []        14,99 €           13,49 €   \n",
       "4                []       104,95 €           73,45 €   \n",
       "\n",
       "   price.has_different_prices  price.has_different_original_prices  \\\n",
       "0                       False                                False   \n",
       "1                        True                                False   \n",
       "2                       False                                False   \n",
       "3                       False                                False   \n",
       "4                       False                                False   \n",
       "\n",
       "   price.has_different_promotional_prices  \\\n",
       "0                                   False   \n",
       "1                                    True   \n",
       "2                                   False   \n",
       "3                                   False   \n",
       "4                                   False   \n",
       "\n",
       "   price.has_discount_on_selected_sizes_only amount price.base_price outfits  \n",
       "0                                      False    NaN              NaN     NaN  \n",
       "1                                      False    NaN              NaN     NaN  \n",
       "2                                      False    NaN              NaN     NaN  \n",
       "3                                      False    NaN              NaN     NaN  \n",
       "4                                      False    NaN              NaN     NaN  "
      ]
     },
     "execution_count": 17,
     "metadata": {},
     "output_type": "execute_result"
    }
   ],
   "source": [
    "# Your code\n",
    "response = urllib.request.urlopen(url)\n",
    "results = json.load(response)\n",
    "\n",
    "\n",
    "flattened_data = json_normalize(results)\n",
    "flattened_data1 = json_normalize(flattened_data.articles[0])\n",
    "flattened_data1.head()"
   ]
  },
  {
   "cell_type": "markdown",
   "metadata": {},
   "source": [
    "#### Collect all the objects from selected filters. Total number of pages can be found in the same json. Use *sku* column as index.\n",
    "\n",
    "Your output should be a Pandas DataFrame of goods. Each row should contain only text or numbers, having family_articles, flags, media and sizes remaining lists (they are exceptions)."
   ]
  },
  {
   "cell_type": "code",
   "execution_count": null,
   "metadata": {},
   "outputs": [],
   "source": [
    "# Get the total number of pages\n",
    "total_pages=results['pagination']['page_count']\n",
    "\n",
    "# Your code\n",
    "df=pd.DataFrame()\n",
    "for i in range(total_pages):\n",
    "    k=84*i\n",
    "    url=f'https://www.zalando.fr/api/catalog/articles?categories=promo-enfant&limit=84&offset={k}&sort=sale'\n",
    "    response = requests.get(url)\n",
    "    results = response.json()\n",
    "    flattened_data = json_normalize(results)\n",
    "    flattened_data1 = json_normalize(flattened_data.articles[0])\n",
    "    flattened_data1=flattened_data1.set_index('sku')\n",
    "    df = df.append(flattened_data1)\n",
    "\n",
    "df.head() #No entiendo que piden acá"
   ]
  },
  {
   "cell_type": "markdown",
   "metadata": {},
   "source": [
    "#### Display the trending brand in DataFrame"
   ]
  },
  {
   "cell_type": "code",
   "execution_count": null,
   "metadata": {},
   "outputs": [],
   "source": [
    "df.brand_name.value_counts().index[0]"
   ]
  },
  {
   "cell_type": "markdown",
   "metadata": {},
   "source": [
    "#### Display the brand with maximal total discount (sum of discounts on all goods)"
   ]
  },
  {
   "cell_type": "code",
   "execution_count": null,
   "metadata": {},
   "outputs": [],
   "source": [
    "#Our data is still text. Convert prices into numbers:\n",
    "df['price.original']=df['price.original'].str.extract('(\\d*,\\d*)')\n",
    "df['price.promotional']=df['price.promotional'].str.extract('(\\d*,\\d*)')\n",
    "\n",
    "df['price.original'] = [x.replace(',', '.') for x in df['price.original']]\n",
    "df['price.promotional'] = [x.replace(',', '.') for x in df['price.promotional']]"
   ]
  },
  {
   "cell_type": "code",
   "execution_count": null,
   "metadata": {},
   "outputs": [],
   "source": [
    "df['discount_amount']=df['price.original'].astype(float)-df['price.promotional'].astype(float)\n",
    "df1=df.copy()"
   ]
  },
  {
   "cell_type": "code",
   "execution_count": null,
   "metadata": {},
   "outputs": [],
   "source": [
    "total_disc=df1.groupby(['brand_name']).sum().discount_amount"
   ]
  },
  {
   "cell_type": "code",
   "execution_count": null,
   "metadata": {},
   "outputs": [],
   "source": [
    "total_disc.sort_values(ascending=False).index[0] #Supongo que tendria que imprimir algo del df de arriba"
   ]
  },
  {
   "cell_type": "markdown",
   "metadata": {},
   "source": [
    "#### Display the brands without discount at all"
   ]
  },
  {
   "cell_type": "code",
   "execution_count": null,
   "metadata": {},
   "outputs": [],
   "source": [
    "display.total_disc[total_disc==0] #Igual en este"
   ]
  }
 ],
 "metadata": {
  "kernelspec": {
   "display_name": "Python 3",
   "language": "python",
   "name": "python3"
  },
  "language_info": {
   "codemirror_mode": {
    "name": "ipython",
    "version": 3
   },
   "file_extension": ".py",
   "mimetype": "text/x-python",
   "name": "python",
   "nbconvert_exporter": "python",
   "pygments_lexer": "ipython3",
   "version": "3.6.9"
  }
 },
 "nbformat": 4,
 "nbformat_minor": 2
}
